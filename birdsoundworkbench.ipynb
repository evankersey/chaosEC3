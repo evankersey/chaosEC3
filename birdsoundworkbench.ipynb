{
 "cells": [
  {
   "cell_type": "code",
   "execution_count": 1,
   "id": "0a8b3e8b",
   "metadata": {
    "_cell_guid": "b1076dfc-b9ad-4769-8c92-a6c4dae69d19",
    "_uuid": "8f2839f25d086af736a60e9eeb907d3b93b6e0e5",
    "execution": {
     "iopub.execute_input": "2022-03-24T20:34:17.390343Z",
     "iopub.status.busy": "2022-03-24T20:34:17.389086Z",
     "iopub.status.idle": "2022-03-24T20:34:21.511359Z",
     "shell.execute_reply": "2022-03-24T20:34:21.510515Z",
     "shell.execute_reply.started": "2022-03-16T11:41:28.951098Z"
    },
    "papermill": {
     "duration": 4.130015,
     "end_time": "2022-03-24T20:34:21.511534",
     "exception": false,
     "start_time": "2022-03-24T20:34:17.381519",
     "status": "completed"
    },
    "tags": []
   },
   "outputs": [
    {
     "name": "stdout",
     "output_type": "stream",
     "text": [
      "153\n",
      "0\n"
     ]
    }
   ],
   "source": [
    "\n",
    "import numpy as np # linear algebra\n",
    "import pandas as pd # data processing, CSV file I/O (e.g. pd.read_csv)\n",
    "\n",
    "# Input data files are available in the read-only \"../input/\" directory\n",
    "# For example, running this (by clicking run or pressing Shift+Enter) will list all files under the input directory\n",
    "birdNames = set()\n",
    "import os\n",
    "for dirname, _, filenames in os.walk('/kaggle/input'):\n",
    "    for filename in filenames:\n",
    "        fullPath = os.path.join(dirname, filename)\n",
    "        #print(fullPath)\n",
    "        if(fullPath[-3:] == \"ogg\"):\n",
    "            birdNames.add(fullPath.split('/')[-2])\n",
    "print(len(birdNames))\n",
    "\n",
    "# class for each soundscape\n",
    "# what features need to be extracted?\n",
    "class soundscape:\n",
    "    speciesActual = 0\n",
    "    speciesPredicted = 0\n",
    "    spectrograph = 0\n",
    "    \n",
    "    \n",
    "test = soundscape()\n",
    "print(soundscape.speciesActual)\n",
    "#access file\n",
    "# ogg -> spectrograph\n",
    "# spectrograph to csv\n",
    "# ML using csv\n",
    "\n",
    "\n",
    "\n",
    "## TODO \n",
    "## identify way to extract features from ogg\n",
    "##    What libs already exist? What is the time complexity of the solution? \n",
    "##    What exactly is an ogg? I know it is binary but how once the file is opened up what do I do with it?\n",
    "##    Reading about waveform analysis. Converting to a spectrograph convers to computer vision vs waveform analysis. \n",
    "##    What is the MVP?\n",
    "\n",
    "\n",
    "## soundfile to numpy arr https://pypi.org/project/PySoundFile/0.8.1/\n",
    "\n",
    "## possible struct\n",
    "## ogg -> spectrograph -> computer vision classification. AI prof could be a good resource\n",
    "## or\n",
    "## ogg -> time series data -> ltsm network? \\ kitchen sink approach\n",
    "\n",
    "## Is there a clash of code that deals with audio?\n",
    "## what features differentiate bird cals? pitch? frequency? loudness? How does distance forom source change?\n",
    "\n",
    "\n",
    "#Data cleaning\n",
    "## how to extract features from audio?\n",
    "## convert to spectrograph then use time series pitch data as features? ie pitch at every milisecond?\n",
    "## what is a spectrograph? is it symetrical? what libs exist to convert?\n",
    "\n",
    "#build model on test data\n",
    "# measure on train data\n"
   ]
  }
 ],
 "metadata": {
  "kernelspec": {
   "display_name": "Python 3",
   "language": "python",
   "name": "python3"
  },
  "language_info": {
   "codemirror_mode": {
    "name": "ipython",
    "version": 3
   },
   "file_extension": ".py",
   "mimetype": "text/x-python",
   "name": "python",
   "nbconvert_exporter": "python",
   "pygments_lexer": "ipython3",
   "version": "3.7.12"
  },
  "papermill": {
   "default_parameters": {},
   "duration": 15.607379,
   "end_time": "2022-03-24T20:34:22.227322",
   "environment_variables": {},
   "exception": null,
   "input_path": "__notebook__.ipynb",
   "output_path": "__notebook__.ipynb",
   "parameters": {},
   "start_time": "2022-03-24T20:34:06.619943",
   "version": "2.3.3"
  }
 },
 "nbformat": 4,
 "nbformat_minor": 5
}
